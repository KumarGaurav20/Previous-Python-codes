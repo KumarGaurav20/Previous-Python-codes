{
  "nbformat": 4,
  "nbformat_minor": 0,
  "metadata": {
    "colab": {
      "name": "DataVisualizationPractice.ipynb",
      "provenance": [],
      "authorship_tag": "ABX9TyMLSxerZef3ytNr3rB7YvmZ",
      "include_colab_link": true
    },
    "kernelspec": {
      "name": "python3",
      "display_name": "Python 3"
    },
    "language_info": {
      "name": "python"
    }
  },
  "cells": [
    {
      "cell_type": "markdown",
      "metadata": {
        "id": "view-in-github",
        "colab_type": "text"
      },
      "source": [
        "<a href=\"https://colab.research.google.com/github/KumarGaurav20/Previous-Python-codes/blob/main/DataVisualizationPractice.ipynb\" target=\"_parent\"><img src=\"https://colab.research.google.com/assets/colab-badge.svg\" alt=\"Open In Colab\"/></a>"
      ]
    },
    {
      "cell_type": "code",
      "metadata": {
        "id": "XZpne-oif0ky"
      },
      "source": [
        "from os import walk\n",
        "from os.path import join\n",
        "import pandas as pd\n",
        "import matplotlib.pyplot as plt\n",
        "import numpy as np\n",
        "\n",
        "# For Natural Language Processing\n",
        "import nltk\n",
        "from nltk.stem import PorterStemmer     #For stemming(reduction of words)\n",
        "from nltk.stem import SnowballStemmer   #Another Stemming Methdd\n",
        "from nltk.corpus import stopwords       #For filtering stopwords(the, is, etc.)\n",
        "from nltk.tokenize import word_tokenize #For tokkenizing words\n",
        "from bs4 import BeautifulSoup           #For removing html\n",
        "\n",
        "from sklearn.model_selection import train_test_split #for training and splitting data\n",
        "\n",
        "%matplotlib inline"
      ],
      "execution_count": null,
      "outputs": []
    }
  ]
}